{
 "cells": [
  {
   "cell_type": "code",
   "execution_count": null,
   "metadata": {},
   "outputs": [],
   "source": [
    "# import pandas as pd\n",
    "\n",
    "# df_m = pd.read_csv('7장/product_plan_material.csv', index_col = '제품')\n",
    "# df_p = pd.read_csv('7장/product_plan_profit.csv', index_col = '제품')\n",
    "# df_s = pd.read_csv('7장/product_plan_stock.csv', index_col = '항목')\n",
    "# df_plan = pd.read_csv('7장/product_plan.csv', index_col = '제품')\n",
    "\n",
    "# display(df_m, df_p, df_s, df_plan)"
   ]
  },
  {
   "cell_type": "code",
   "execution_count": 6,
   "metadata": {},
   "outputs": [],
   "source": [
    "import pandas as pd\n",
    "import numpy as np\n",
    "from itertools import product\n",
    "from ortools.linear_solver import pywraplp\n",
    "\n",
    "df_m = pd.DataFrame({'원료1':[1, 2],\n",
    "                    '원료2':[4, 4],\n",
    "                    '원료3':[3, 1]},\n",
    "                    index = ['제품1', '제품2'])   #index 지정\n",
    "df_p = pd.DataFrame({'이익':[5, 4]},\n",
    "                    index = ['제품1', '제품2'])   #index 지정\n",
    "df_s = pd.DataFrame({'원료1':[40],\n",
    "                    '원료2':[80],\n",
    "                    '원료3':[50]},\n",
    "                    index = ['재고'])   #index 지정\n",
    "df_plan = pd.DataFrame({'생산량':[16, 0]},\n",
    "                    index = ['제품1', '제품2'])   #index 지정"
   ]
  },
  {
   "cell_type": "code",
   "execution_count": 5,
   "metadata": {},
   "outputs": [
    {
     "name": "stdout",
     "output_type": "stream",
     "text": [
      "총이익:  80\n"
     ]
    }
   ],
   "source": [
    "def product_plan(df_profit, df_plan):\n",
    "    profit = 0\n",
    "    for i in range(len(df_profit.index)):\n",
    "        profit += df_profit.iloc[i][0] * df_plan.iloc[i][0] #이익 * 생산량 \n",
    "    return profit\n",
    "    \n",
    "print('총이익: ', product_plan(df_p, df_plan))"
   ]
  },
  {
   "cell_type": "code",
   "execution_count": 11,
   "metadata": {},
   "outputs": [
    {
     "name": "stdout",
     "output_type": "stream",
     "text": [
      "Number of variables = 2\n"
     ]
    },
    {
     "data": {
      "text/plain": [
       "{0: v0, 1: v1}"
      ]
     },
     "execution_count": 11,
     "metadata": {},
     "output_type": "execute_result"
    }
   ],
   "source": [
    "# Create the mip solver with the SCIP backend.\n",
    "solver = pywraplp.Solver.CreateSolver('SCIP')\n",
    "if not solver:\n",
    "    print('Not Sovler')\n",
    "\n",
    "infinity = solver.infinity()\n",
    "v2 = {}\n",
    "for i in range(len(df_p)):\n",
    "    v2[i] = solver.IntVar(0, infinity, 'v%i' % i)\n",
    "print('Number of variables =', solver.NumVariables())"
   ]
  },
  {
   "cell_type": "code",
   "execution_count": null,
   "metadata": {},
   "outputs": [],
   "source": [
    "# #이제 m2에 제약조건을 하나씩 추가해보자.\n",
    "\n",
    "# ##각 제품별 이익*생산량 \n",
    "# m2 += lpSum(df_p.iloc[i] * v2[i] for i in range(len(df_p))) \n",
    "\n",
    "# ##제약조건\n",
    "# for j in range(len(df_m.columns)): #j: 원료 0,1,2 / i: 제품 0, 1\n",
    "#     m2 += lpSum(df_m.iloc[i, j] * v2[i] for i in range(len(df_p))) <= df_s.iloc[:, j] #제약조건: 각 제품에 필요한 생산량*원료합 <= 최대 원료 재고량\n",
    "\n",
    "# m2.solve() #최적해 구해줘!"
   ]
  },
  {
   "cell_type": "code",
   "execution_count": 21,
   "metadata": {},
   "outputs": [],
   "source": [
    "objective = solver.Objective()\n",
    "for i in range(len(df_p)):\n",
    "    objective.SetCoefficient(v2[i], int(df_p.iloc[i]))\n",
    "objective.SetMaximization()"
   ]
  },
  {
   "cell_type": "code",
   "execution_count": 22,
   "metadata": {},
   "outputs": [],
   "source": [
    "for j in range(len(df_m.columns)): #j: 원료 0,1,2 / i: 제품 0, 1\n",
    "    constraint = solver.Constraint(0, int(df_s.iloc[:, j]))\n",
    "    for i in range(len(df_p)):\n",
    "        constraint.SetCoefficient(v2[i], int(df_m.iloc[i, j]))"
   ]
  },
  {
   "cell_type": "code",
   "execution_count": 25,
   "metadata": {},
   "outputs": [
    {
     "name": "stdout",
     "output_type": "stream",
     "text": [
      "Objective value = 95\n",
      "v0  =  15.0\n",
      "v1  =  5.0\n",
      "\n",
      "Problem solved in 1080859.000000 milliseconds\n",
      "Problem solved in 0 iterations\n",
      "Problem solved in 0 branch-and-bound nodes\n"
     ]
    }
   ],
   "source": [
    "status = solver.Solve()\n",
    "if status == pywraplp.Solver.OPTIMAL:\n",
    "    print('Objective value =', int(solver.Objective().Value()))\n",
    "    for i in range(len(v2)):\n",
    "        print(v2[i].name(), ' = ', v2[i].solution_value())\n",
    "    print()\n",
    "    print('Problem solved in %f milliseconds' % solver.wall_time())\n",
    "    print('Problem solved in %d iterations' % solver.iterations())\n",
    "    print('Problem solved in %d branch-and-bound nodes' % solver.nodes())\n",
    "else:\n",
    "    print('The problem does not have an optimal solution.')"
   ]
  },
  {
   "cell_type": "code",
   "execution_count": null,
   "metadata": {},
   "outputs": [],
   "source": []
  }
 ],
 "metadata": {
  "interpreter": {
   "hash": "b0fa6594d8f4cbf19f97940f81e996739fb7646882a419484c72d19e05852a7e"
  },
  "kernelspec": {
   "display_name": "Python 3.9.10 64-bit",
   "language": "python",
   "name": "python3"
  },
  "language_info": {
   "codemirror_mode": {
    "name": "ipython",
    "version": 3
   },
   "file_extension": ".py",
   "mimetype": "text/x-python",
   "name": "python",
   "nbconvert_exporter": "python",
   "pygments_lexer": "ipython3",
   "version": "3.9.10"
  },
  "orig_nbformat": 4
 },
 "nbformat": 4,
 "nbformat_minor": 2
}
