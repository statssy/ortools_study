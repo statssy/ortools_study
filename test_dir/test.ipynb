{
 "cells": [
  {
   "cell_type": "code",
   "execution_count": 1,
   "metadata": {},
   "outputs": [
    {
     "name": "stdout",
     "output_type": "stream",
     "text": [
      "Number of variables = 12\n",
      "Solution:\n",
      "Objective value = 1296.0\n"
     ]
    }
   ],
   "source": [
    "# 운송최적화 ortools로 바꾸기\n",
    "# https://suy379.tistory.com/73\n",
    "\n",
    "import pandas as pd\n",
    "import numpy as np\n",
    "from itertools import product\n",
    "from ortools.linear_solver import pywraplp\n",
    "\n",
    "df_tc = pd.DataFrame({'F1':[10, 18, 15],\n",
    "                    'F2':[10, 21, 12],\n",
    "                    'F3':[11, 12, 14],\n",
    "                    'F4':[27, 14, 12]},\n",
    "                    index = ['W1', 'W2', 'W3'])   #index 지정\n",
    "df_demand = pd.DataFrame({'F1':[28],\n",
    "                        'F2':[29],\n",
    "                        'F3':[31],\n",
    "                        'F4':[25]}\n",
    "                        ) \n",
    "df_supply = pd.DataFrame({'W1':[35],\n",
    "                        'W2':[41],\n",
    "                        'W3':[42]}\n",
    "                        ) \n",
    "#초기 설정\n",
    "np.random.seed(1)\n",
    "nw = len(df_tc.index) #W 창고 개수 : 3\n",
    "nf = len(df_tc.columns) #F 공장 개수 :4\n",
    "pr = list(product(range(nw), range(nf))) #product 함수는 W(0~2)와 F(0~3)넘버를 중복 없이 짝지어줌 \n",
    "\n",
    "# Create the mip solver with the SCIP backend.\n",
    "solver = pywraplp.Solver.CreateSolver('SCIP')\n",
    "if not solver:\n",
    "    print('Not Sovler')\n",
    "\n",
    "infinity = solver.infinity()\n",
    "v1 = {}\n",
    "for w, f in pr:\n",
    "    v1[(w, f)] = solver.IntVar(0, infinity, 'x[w%if%i]' % (w, f))\n",
    "print('Number of variables =', solver.NumVariables())\n",
    "\n",
    "\n",
    "objective = solver.Objective()\n",
    "for i, j in pr:\n",
    "    objective.SetCoefficient(v1[i,j], float(df_tc.iloc[i][j]))\n",
    "objective.SetMinimization()\n",
    "\n",
    "for i in range(nw):\n",
    "    constraint = solver.Constraint(0, float(df_supply.iloc[0][i]))\n",
    "    for j in range(nf):\n",
    "        constraint.SetCoefficient(v1[i, j], 1)\n",
    "\n",
    "for j in range(nf):\n",
    "    constraint = solver.Constraint(float(df_demand.iloc[0][j]), solver.infinity())\n",
    "    for i in range(nw):\n",
    "        constraint.SetCoefficient(v1[i, j], 1)\n",
    "\n",
    "status = solver.Solve()\n",
    "\n",
    "if status == pywraplp.Solver.OPTIMAL:\n",
    "    print('Solution:')\n",
    "    print('Objective value =', solver.Objective().Value())\n"
   ]
  },
  {
   "cell_type": "code",
   "execution_count": 12,
   "metadata": {},
   "outputs": [
    {
     "name": "stdout",
     "output_type": "stream",
     "text": [
      "Objective value = 1296.0\n",
      "x[w0f0]  =  28.0\n",
      "x[w0f1]  =  7.0\n",
      "x[w0f2]  =  0.0\n",
      "x[w0f3]  =  0.0\n",
      "x[w1f0]  =  0.0\n",
      "x[w1f1]  =  0.0\n",
      "x[w1f2]  =  31.0\n",
      "x[w1f3]  =  5.0\n",
      "x[w2f0]  =  0.0\n",
      "x[w2f1]  =  22.0\n",
      "x[w2f2]  =  0.0\n",
      "x[w2f3]  =  20.0\n",
      "\n",
      "Problem solved in 871550.000000 milliseconds\n",
      "Problem solved in 6 iterations\n",
      "Problem solved in 1 branch-and-bound nodes\n"
     ]
    }
   ],
   "source": [
    "if status == pywraplp.Solver.OPTIMAL:\n",
    "    print('Objective value =', solver.Objective().Value())\n",
    "    for i,j in pr:\n",
    "        print(v1[(i,j)].name(), ' = ', v1[(i,j)].solution_value())\n",
    "    print()\n",
    "    print('Problem solved in %f milliseconds' % solver.wall_time())\n",
    "    print('Problem solved in %d iterations' % solver.iterations())\n",
    "    print('Problem solved in %d branch-and-bound nodes' % solver.nodes())\n",
    "else:\n",
    "    print('The problem does not have an optimal solution.')"
   ]
  }
 ],
 "metadata": {
  "interpreter": {
   "hash": "44fa8b72201eb06722dc7526d166187e6b1b2adc089b598780609bce85695b20"
  },
  "kernelspec": {
   "display_name": "Python 3.9.10 64-bit ('env': venv)",
   "language": "python",
   "name": "python3"
  },
  "language_info": {
   "codemirror_mode": {
    "name": "ipython",
    "version": 3
   },
   "file_extension": ".py",
   "mimetype": "text/x-python",
   "name": "python",
   "nbconvert_exporter": "python",
   "pygments_lexer": "ipython3",
   "version": "3.9.10"
  },
  "orig_nbformat": 4
 },
 "nbformat": 4,
 "nbformat_minor": 2
}
